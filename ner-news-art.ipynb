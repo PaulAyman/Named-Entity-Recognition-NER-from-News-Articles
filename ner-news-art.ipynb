{
 "cells": [
  {
   "cell_type": "code",
   "execution_count": 1,
   "id": "e67cb3ac",
   "metadata": {
    "_cell_guid": "b1076dfc-b9ad-4769-8c92-a6c4dae69d19",
    "_uuid": "8f2839f25d086af736a60e9eeb907d3b93b6e0e5",
    "execution": {
     "iopub.execute_input": "2025-09-18T23:33:09.318960Z",
     "iopub.status.busy": "2025-09-18T23:33:09.318728Z",
     "iopub.status.idle": "2025-09-18T23:33:10.891129Z",
     "shell.execute_reply": "2025-09-18T23:33:10.890430Z"
    },
    "papermill": {
     "duration": 1.578511,
     "end_time": "2025-09-18T23:33:10.892764",
     "exception": false,
     "start_time": "2025-09-18T23:33:09.314253",
     "status": "completed"
    },
    "tags": []
   },
   "outputs": [
    {
     "name": "stdout",
     "output_type": "stream",
     "text": [
      "/kaggle/input/conll003-englishversion/valid.txt\n",
      "/kaggle/input/conll003-englishversion/metadata\n",
      "/kaggle/input/conll003-englishversion/test.txt\n",
      "/kaggle/input/conll003-englishversion/train.txt\n"
     ]
    }
   ],
   "source": [
    "# This Python 3 environment comes with many helpful analytics libraries installed\n",
    "# It is defined by the kaggle/python Docker image: https://github.com/kaggle/docker-python\n",
    "# For example, here's several helpful packages to load\n",
    "\n",
    "import numpy as np # linear algebra\n",
    "import pandas as pd # data processing, CSV file I/O (e.g. pd.read_csv)\n",
    "\n",
    "# Input data files are available in the read-only \"../input/\" directory\n",
    "# For example, running this (by clicking run or pressing Shift+Enter) will list all files under the input directory\n",
    "\n",
    "import os\n",
    "for dirname, _, filenames in os.walk('/kaggle/input'):\n",
    "    for filename in filenames:\n",
    "        print(os.path.join(dirname, filename))\n",
    "\n",
    "# You can write up to 20GB to the current directory (/kaggle/working/) that gets preserved as output when you create a version using \"Save & Run All\" \n",
    "# You can also write temporary files to /kaggle/temp/, but they won't be saved outside of the current session"
   ]
  },
  {
   "cell_type": "code",
   "execution_count": 2,
   "id": "7f17a2d8",
   "metadata": {
    "execution": {
     "iopub.execute_input": "2025-09-18T23:33:10.900841Z",
     "iopub.status.busy": "2025-09-18T23:33:10.900172Z",
     "iopub.status.idle": "2025-09-18T23:33:22.167359Z",
     "shell.execute_reply": "2025-09-18T23:33:22.166515Z"
    },
    "papermill": {
     "duration": 11.272393,
     "end_time": "2025-09-18T23:33:22.168778",
     "exception": false,
     "start_time": "2025-09-18T23:33:10.896385",
     "status": "completed"
    },
    "tags": []
   },
   "outputs": [],
   "source": [
    "import spacy\n",
    "from spacy import displacy\n",
    "import re\n",
    "from sklearn.metrics import classification_report, precision_recall_fscore_support\n",
    "import matplotlib.pyplot as plt\n",
    "from spacy.tokens import DocBin\n",
    "from spacy.util import filter_spans\n",
    "from spacy.pipeline import EntityRuler\n",
    "from tqdm import tqdm\n",
    "\n"
   ]
  },
  {
   "cell_type": "code",
   "execution_count": 3,
   "id": "5349f2bd",
   "metadata": {
    "execution": {
     "iopub.execute_input": "2025-09-18T23:33:22.176515Z",
     "iopub.status.busy": "2025-09-18T23:33:22.176042Z",
     "iopub.status.idle": "2025-09-18T23:33:37.505255Z",
     "shell.execute_reply": "2025-09-18T23:33:37.504342Z"
    },
    "papermill": {
     "duration": 15.334182,
     "end_time": "2025-09-18T23:33:37.506447",
     "exception": false,
     "start_time": "2025-09-18T23:33:22.172265",
     "status": "completed"
    },
    "tags": []
   },
   "outputs": [
    {
     "name": "stdout",
     "output_type": "stream",
     "text": [
      "Collecting en-core-web-sm==3.8.0\n",
      "  Downloading https://github.com/explosion/spacy-models/releases/download/en_core_web_sm-3.8.0/en_core_web_sm-3.8.0-py3-none-any.whl (12.8 MB)\n",
      "     ━━━━━━━━━━━━━━━━━━━━━━━━━━━━━━━━━━━━━━━━ 12.8/12.8 MB 93.4 MB/s eta 0:00:00\n",
      "\u001b[38;5;2m✔ Download and installation successful\u001b[0m\n",
      "You can now load the package via spacy.load('en_core_web_sm')\n",
      "\u001b[38;5;3m⚠ Restart to reload dependencies\u001b[0m\n",
      "If you are in a Jupyter or Colab notebook, you may need to restart Python in\n",
      "order to load all the package's dependencies. You can do this by selecting the\n",
      "'Restart kernel' or 'Restart runtime' option.\n",
      "Collecting en-core-web-lg==3.8.0\n",
      "  Downloading https://github.com/explosion/spacy-models/releases/download/en_core_web_lg-3.8.0/en_core_web_lg-3.8.0-py3-none-any.whl (400.7 MB)\n",
      "     ━━━━━━━━━━━━━━━━━━━━━━━━━━━━━━━━━━━━━━━ 400.7/400.7 MB 4.3 MB/s eta 0:00:00\n",
      "Installing collected packages: en-core-web-lg\n",
      "Successfully installed en-core-web-lg-3.8.0\n",
      "\u001b[38;5;2m✔ Download and installation successful\u001b[0m\n",
      "You can now load the package via spacy.load('en_core_web_lg')\n",
      "\u001b[38;5;3m⚠ Restart to reload dependencies\u001b[0m\n",
      "If you are in a Jupyter or Colab notebook, you may need to restart Python in\n",
      "order to load all the package's dependencies. You can do this by selecting the\n",
      "'Restart kernel' or 'Restart runtime' option.\n"
     ]
    }
   ],
   "source": [
    "from spacy.cli import download\n",
    "\n",
    "download(\"en_core_web_sm\")\n",
    "download(\"en_core_web_lg\")\n"
   ]
  },
  {
   "cell_type": "code",
   "execution_count": 4,
   "id": "32c8ccef",
   "metadata": {
    "execution": {
     "iopub.execute_input": "2025-09-18T23:33:37.515229Z",
     "iopub.status.busy": "2025-09-18T23:33:37.514633Z",
     "iopub.status.idle": "2025-09-18T23:33:37.520395Z",
     "shell.execute_reply": "2025-09-18T23:33:37.519671Z"
    },
    "papermill": {
     "duration": 0.011278,
     "end_time": "2025-09-18T23:33:37.521534",
     "exception": false,
     "start_time": "2025-09-18T23:33:37.510256",
     "status": "completed"
    },
    "tags": []
   },
   "outputs": [],
   "source": [
    "def load_data(name):\n",
    "    path = f\"/kaggle/input/conll003-englishversion/{name}.txt\"\n",
    "    tokens, labels = [], []\n",
    "    sentence_tokens, sentence_labels = [], []\n",
    "    tokens_count = 0\n",
    "\n",
    "    f = open(path, \"r\")\n",
    "    lines = f.readlines()\n",
    "    f.close()\n",
    "\n",
    "    for line in lines:\n",
    "        if line.startswith(\"-DOCSTART-\"):\n",
    "            continue\n",
    "\n",
    "        parts = line.split(\" \")\n",
    "        if not parts[0]:\n",
    "            continue\n",
    "\n",
    "        if parts[0].startswith(\"\\n\") and sentence_tokens:\n",
    "            sentence_tokens = sentence_tokens[1:]\n",
    "            sentence_labels = sentence_labels[1:]\n",
    "            tokens.append(sentence_tokens)\n",
    "            labels.append(sentence_labels)\n",
    "            sentence_tokens, sentence_labels = [], []\n",
    "            continue\n",
    "\n",
    "        first = parts[0].strip()\n",
    "        label = parts[-1].strip()\n",
    "        sentence_tokens.append(first)\n",
    "        sentence_labels.append(label)\n",
    "        tokens_count += 1\n",
    "\n",
    "    return tokens, labels, tokens_count\n"
   ]
  },
  {
   "cell_type": "code",
   "execution_count": 5,
   "id": "4daf5f1e",
   "metadata": {
    "execution": {
     "iopub.execute_input": "2025-09-18T23:33:37.529302Z",
     "iopub.status.busy": "2025-09-18T23:33:37.528602Z",
     "iopub.status.idle": "2025-09-18T23:33:37.820876Z",
     "shell.execute_reply": "2025-09-18T23:33:37.820111Z"
    },
    "papermill": {
     "duration": 0.297485,
     "end_time": "2025-09-18T23:33:37.822322",
     "exception": false,
     "start_time": "2025-09-18T23:33:37.524837",
     "status": "completed"
    },
    "tags": []
   },
   "outputs": [],
   "source": [
    "train_tokens, train_labels, train_count = load_data(\"train\")\n",
    "val_tokens, val_labels, val_count = load_data(\"valid\")\n",
    "test_tokens, test_labels, test_count = load_data(\"test\")"
   ]
  },
  {
   "cell_type": "markdown",
   "id": "0283a9e7",
   "metadata": {
    "papermill": {
     "duration": 0.003198,
     "end_time": "2025-09-18T23:33:37.829166",
     "exception": false,
     "start_time": "2025-09-18T23:33:37.825968",
     "status": "completed"
    },
    "tags": []
   },
   "source": [
    "# Using Model-Based NER"
   ]
  },
  {
   "cell_type": "markdown",
   "id": "38cee11b",
   "metadata": {
    "papermill": {
     "duration": 0.003033,
     "end_time": "2025-09-18T23:33:37.835384",
     "exception": false,
     "start_time": "2025-09-18T23:33:37.832351",
     "status": "completed"
    },
    "tags": []
   },
   "source": [
    "## Exploring en_core_web_lg"
   ]
  },
  {
   "cell_type": "code",
   "execution_count": 6,
   "id": "de7fd486",
   "metadata": {
    "execution": {
     "iopub.execute_input": "2025-09-18T23:33:37.842685Z",
     "iopub.status.busy": "2025-09-18T23:33:37.842450Z",
     "iopub.status.idle": "2025-09-18T23:33:39.731365Z",
     "shell.execute_reply": "2025-09-18T23:33:39.730558Z"
    },
    "papermill": {
     "duration": 1.893944,
     "end_time": "2025-09-18T23:33:39.732545",
     "exception": false,
     "start_time": "2025-09-18T23:33:37.838601",
     "status": "completed"
    },
    "tags": []
   },
   "outputs": [
    {
     "name": "stdout",
     "output_type": "stream",
     "text": [
      "EU rejects German call to boycott British lamb .\n"
     ]
    }
   ],
   "source": [
    "lg_model = spacy.load(\"en_core_web_lg\")\n",
    "\n",
    "sentences_sample = [\" \".join(x) for x in train_tokens[0:5]]\n",
    "sample_docs = [lg_model(x) for x in sentences_sample]\n",
    "print(sample_docs[0])\n"
   ]
  },
  {
   "cell_type": "markdown",
   "id": "a3169251",
   "metadata": {
    "papermill": {
     "duration": 0.003156,
     "end_time": "2025-09-18T23:33:39.740282",
     "exception": false,
     "start_time": "2025-09-18T23:33:39.737126",
     "status": "completed"
    },
    "tags": []
   },
   "source": [
    "Visualizing en_core_web_lg"
   ]
  },
  {
   "cell_type": "code",
   "execution_count": 7,
   "id": "a260c5af",
   "metadata": {
    "execution": {
     "iopub.execute_input": "2025-09-18T23:33:39.747708Z",
     "iopub.status.busy": "2025-09-18T23:33:39.747478Z",
     "iopub.status.idle": "2025-09-18T23:33:39.762510Z",
     "shell.execute_reply": "2025-09-18T23:33:39.761846Z"
    },
    "papermill": {
     "duration": 0.019988,
     "end_time": "2025-09-18T23:33:39.763530",
     "exception": false,
     "start_time": "2025-09-18T23:33:39.743542",
     "status": "completed"
    },
    "tags": []
   },
   "outputs": [
    {
     "data": {
      "text/html": [
       "<span class=\"tex2jax_ignore\"><div class=\"entities\" style=\"line-height: 2.5; direction: ltr\">\n",
       "<mark class=\"entity\" style=\"background: #7aecec; padding: 0.45em 0.6em; margin: 0 0.25em; line-height: 1; border-radius: 0.35em;\">\n",
       "    EU\n",
       "    <span style=\"font-size: 0.8em; font-weight: bold; line-height: 1; border-radius: 0.35em; vertical-align: middle; margin-left: 0.5rem\">ORG</span>\n",
       "</mark>\n",
       " rejects \n",
       "<mark class=\"entity\" style=\"background: #c887fb; padding: 0.45em 0.6em; margin: 0 0.25em; line-height: 1; border-radius: 0.35em;\">\n",
       "    German\n",
       "    <span style=\"font-size: 0.8em; font-weight: bold; line-height: 1; border-radius: 0.35em; vertical-align: middle; margin-left: 0.5rem\">NORP</span>\n",
       "</mark>\n",
       " call to boycott \n",
       "<mark class=\"entity\" style=\"background: #c887fb; padding: 0.45em 0.6em; margin: 0 0.25em; line-height: 1; border-radius: 0.35em;\">\n",
       "    British\n",
       "    <span style=\"font-size: 0.8em; font-weight: bold; line-height: 1; border-radius: 0.35em; vertical-align: middle; margin-left: 0.5rem\">NORP</span>\n",
       "</mark>\n",
       " lamb .</div></span>"
      ],
      "text/plain": [
       "<IPython.core.display.HTML object>"
      ]
     },
     "metadata": {},
     "output_type": "display_data"
    },
    {
     "data": {
      "text/html": [
       "<span class=\"tex2jax_ignore\"><div class=\"entities\" style=\"line-height: 2.5; direction: ltr\">\n",
       "<mark class=\"entity\" style=\"background: #aa9cfc; padding: 0.45em 0.6em; margin: 0 0.25em; line-height: 1; border-radius: 0.35em;\">\n",
       "    Blackburn\n",
       "    <span style=\"font-size: 0.8em; font-weight: bold; line-height: 1; border-radius: 0.35em; vertical-align: middle; margin-left: 0.5rem\">PERSON</span>\n",
       "</mark>\n",
       "</div></span>"
      ],
      "text/plain": [
       "<IPython.core.display.HTML object>"
      ]
     },
     "metadata": {},
     "output_type": "display_data"
    },
    {
     "data": {
      "text/html": [
       "<span class=\"tex2jax_ignore\"><div class=\"entities\" style=\"line-height: 2.5; direction: ltr\">\n",
       "<mark class=\"entity\" style=\"background: #bfe1d9; padding: 0.45em 0.6em; margin: 0 0.25em; line-height: 1; border-radius: 0.35em;\">\n",
       "    1996-08-22\n",
       "    <span style=\"font-size: 0.8em; font-weight: bold; line-height: 1; border-radius: 0.35em; vertical-align: middle; margin-left: 0.5rem\">DATE</span>\n",
       "</mark>\n",
       "</div></span>"
      ],
      "text/plain": [
       "<IPython.core.display.HTML object>"
      ]
     },
     "metadata": {},
     "output_type": "display_data"
    },
    {
     "data": {
      "text/html": [
       "<span class=\"tex2jax_ignore\"><div class=\"entities\" style=\"line-height: 2.5; direction: ltr\">\n",
       "<mark class=\"entity\" style=\"background: #7aecec; padding: 0.45em 0.6em; margin: 0 0.25em; line-height: 1; border-radius: 0.35em;\">\n",
       "    European Commission\n",
       "    <span style=\"font-size: 0.8em; font-weight: bold; line-height: 1; border-radius: 0.35em; vertical-align: middle; margin-left: 0.5rem\">ORG</span>\n",
       "</mark>\n",
       " said on \n",
       "<mark class=\"entity\" style=\"background: #bfe1d9; padding: 0.45em 0.6em; margin: 0 0.25em; line-height: 1; border-radius: 0.35em;\">\n",
       "    Thursday\n",
       "    <span style=\"font-size: 0.8em; font-weight: bold; line-height: 1; border-radius: 0.35em; vertical-align: middle; margin-left: 0.5rem\">DATE</span>\n",
       "</mark>\n",
       " it disagreed with \n",
       "<mark class=\"entity\" style=\"background: #c887fb; padding: 0.45em 0.6em; margin: 0 0.25em; line-height: 1; border-radius: 0.35em;\">\n",
       "    German\n",
       "    <span style=\"font-size: 0.8em; font-weight: bold; line-height: 1; border-radius: 0.35em; vertical-align: middle; margin-left: 0.5rem\">NORP</span>\n",
       "</mark>\n",
       " advice to consumers to shun \n",
       "<mark class=\"entity\" style=\"background: #c887fb; padding: 0.45em 0.6em; margin: 0 0.25em; line-height: 1; border-radius: 0.35em;\">\n",
       "    British\n",
       "    <span style=\"font-size: 0.8em; font-weight: bold; line-height: 1; border-radius: 0.35em; vertical-align: middle; margin-left: 0.5rem\">NORP</span>\n",
       "</mark>\n",
       " lamb until scientists determine whether mad cow disease can be transmitted to sheep .</div></span>"
      ],
      "text/plain": [
       "<IPython.core.display.HTML object>"
      ]
     },
     "metadata": {},
     "output_type": "display_data"
    },
    {
     "data": {
      "text/html": [
       "<span class=\"tex2jax_ignore\"><div class=\"entities\" style=\"line-height: 2.5; direction: ltr\">'s representative to \n",
       "<mark class=\"entity\" style=\"background: #7aecec; padding: 0.45em 0.6em; margin: 0 0.25em; line-height: 1; border-radius: 0.35em;\">\n",
       "    the European Union 's\n",
       "    <span style=\"font-size: 0.8em; font-weight: bold; line-height: 1; border-radius: 0.35em; vertical-align: middle; margin-left: 0.5rem\">ORG</span>\n",
       "</mark>\n",
       " veterinary committee \n",
       "<mark class=\"entity\" style=\"background: #aa9cfc; padding: 0.45em 0.6em; margin: 0 0.25em; line-height: 1; border-radius: 0.35em;\">\n",
       "    Werner Zwingmann\n",
       "    <span style=\"font-size: 0.8em; font-weight: bold; line-height: 1; border-radius: 0.35em; vertical-align: middle; margin-left: 0.5rem\">PERSON</span>\n",
       "</mark>\n",
       " said on \n",
       "<mark class=\"entity\" style=\"background: #bfe1d9; padding: 0.45em 0.6em; margin: 0 0.25em; line-height: 1; border-radius: 0.35em;\">\n",
       "    Wednesday\n",
       "    <span style=\"font-size: 0.8em; font-weight: bold; line-height: 1; border-radius: 0.35em; vertical-align: middle; margin-left: 0.5rem\">DATE</span>\n",
       "</mark>\n",
       " consumers should buy sheepmeat from countries other than \n",
       "<mark class=\"entity\" style=\"background: #feca74; padding: 0.45em 0.6em; margin: 0 0.25em; line-height: 1; border-radius: 0.35em;\">\n",
       "    Britain\n",
       "    <span style=\"font-size: 0.8em; font-weight: bold; line-height: 1; border-radius: 0.35em; vertical-align: middle; margin-left: 0.5rem\">GPE</span>\n",
       "</mark>\n",
       " until the scientific advice was clearer .</div></span>"
      ],
      "text/plain": [
       "<IPython.core.display.HTML object>"
      ]
     },
     "metadata": {},
     "output_type": "display_data"
    }
   ],
   "source": [
    "for doc in sample_docs:\n",
    "    displacy.render(doc, style=\"ent\", jupyter= True)"
   ]
  },
  {
   "cell_type": "markdown",
   "id": "1f54b8cf",
   "metadata": {
    "papermill": {
     "duration": 0.003501,
     "end_time": "2025-09-18T23:33:39.770901",
     "exception": false,
     "start_time": "2025-09-18T23:33:39.767400",
     "status": "completed"
    },
    "tags": []
   },
   "source": [
    "## Exploring en_core_web_sm"
   ]
  },
  {
   "cell_type": "code",
   "execution_count": 8,
   "id": "8be3218e",
   "metadata": {
    "execution": {
     "iopub.execute_input": "2025-09-18T23:33:39.779057Z",
     "iopub.status.busy": "2025-09-18T23:33:39.778825Z",
     "iopub.status.idle": "2025-09-18T23:33:40.421527Z",
     "shell.execute_reply": "2025-09-18T23:33:40.420894Z"
    },
    "papermill": {
     "duration": 0.648271,
     "end_time": "2025-09-18T23:33:40.422866",
     "exception": false,
     "start_time": "2025-09-18T23:33:39.774595",
     "status": "completed"
    },
    "tags": []
   },
   "outputs": [],
   "source": [
    "sm_model = spacy.load(\"en_core_web_sm\")\n",
    "\n",
    "sentences_sample = [\" \".join(x) for x in train_tokens[0:5]]\n",
    "sample_docs = [sm_model(x) for x in sentences_sample]"
   ]
  },
  {
   "cell_type": "markdown",
   "id": "644a1f8e",
   "metadata": {
    "papermill": {
     "duration": 0.003599,
     "end_time": "2025-09-18T23:33:40.430559",
     "exception": false,
     "start_time": "2025-09-18T23:33:40.426960",
     "status": "completed"
    },
    "tags": []
   },
   "source": [
    "# Using Rule-Based Raw Model"
   ]
  },
  {
   "cell_type": "code",
   "execution_count": 9,
   "id": "54184b0b",
   "metadata": {
    "execution": {
     "iopub.execute_input": "2025-09-18T23:33:40.438934Z",
     "iopub.status.busy": "2025-09-18T23:33:40.438701Z",
     "iopub.status.idle": "2025-09-18T23:33:40.601157Z",
     "shell.execute_reply": "2025-09-18T23:33:40.600369Z"
    },
    "papermill": {
     "duration": 0.16864,
     "end_time": "2025-09-18T23:33:40.602964",
     "exception": false,
     "start_time": "2025-09-18T23:33:40.434324",
     "status": "completed"
    },
    "tags": []
   },
   "outputs": [],
   "source": [
    "rule_model = spacy.blank(\"en\")\n",
    "ruler = rule_model.add_pipe(\"entity_ruler\", config={\"overwrite_ents\":True})\n",
    "\n",
    "COUNTRIES = [\"United States\", \"United Kingdom\", \"Germany\", \"France\", \"Egypt\", \"USA\", \"UK\", \"China\", \"Japan\", \"Spain\", \"Italy\"]\n",
    "ORG_SUFFIX = [\"inc.\", \"ltd.\", \"corp.\", \"co.\", \"bank\", \"university\", \"college\", \"group\", \"committee\", \"council\"]\n",
    "NATIONALITY_ADJ = [\"american\",\"british\",\"german\",\"french\",\"egyptian\",\"chinese\",\"japanese\",\"spanish\",\"italian\"]\n",
    "\n",
    "patterns = (\n",
    "    [\n",
    "        {\"label\": \"PER\", \"pattern\": [{\"LOWER\": {\"IN\": [\"mr.\",\"mrs.\",\"ms.\",\"dr.\",\"prof.\"]}}, {\"IS_TITLE\": True, \"OP\": \"+\"}]},\n",
    "\n",
    "        {\"label\": \"PER\", \"pattern\": [{\"IS_TITLE\": True}, {\"IS_TITLE\": True, \"OP\": \"+\"}]},\n",
    "\n",
    "        {\"label\": \"ORG\", \"pattern\": [{\"IS_TITLE\": True, \"OP\": \"+\"}, {\"LOWER\": {\"IN\": ORG_SUFFIX}}]},\n",
    "\n",
    "        {\"label\": \"ORG\", \"pattern\": [{\"TEXT\": {\"REGEX\": \"^[A-Z]{2,6}$\"}}]},\n",
    "\n",
    "        {\"label\": \"LOC\", \"pattern\": [{\"LOWER\": {\"IN\": [\"in\",\"at\",\"from\",\"to\"]}}, {\"IS_TITLE\": True, \"OP\": \"+\"}]},\n",
    "    ]\n",
    "    + [{\"label\": \"LOC\", \"pattern\": c} for c in COUNTRIES]\n",
    "    + [{\"label\": \"MISC\", \"pattern\": [{\"LOWER\": nat}]} for nat in NATIONALITY_ADJ]\n",
    ")"
   ]
  },
  {
   "cell_type": "code",
   "execution_count": 10,
   "id": "d3b717de",
   "metadata": {
    "execution": {
     "iopub.execute_input": "2025-09-18T23:33:40.611413Z",
     "iopub.status.busy": "2025-09-18T23:33:40.611200Z",
     "iopub.status.idle": "2025-09-18T23:33:40.615610Z",
     "shell.execute_reply": "2025-09-18T23:33:40.615100Z"
    },
    "papermill": {
     "duration": 0.009702,
     "end_time": "2025-09-18T23:33:40.616606",
     "exception": false,
     "start_time": "2025-09-18T23:33:40.606904",
     "status": "completed"
    },
    "tags": []
   },
   "outputs": [],
   "source": [
    "ruler.add_patterns(patterns)\n"
   ]
  },
  {
   "cell_type": "code",
   "execution_count": 11,
   "id": "9a311d25",
   "metadata": {
    "execution": {
     "iopub.execute_input": "2025-09-18T23:33:40.624999Z",
     "iopub.status.busy": "2025-09-18T23:33:40.624591Z",
     "iopub.status.idle": "2025-09-18T23:33:40.631207Z",
     "shell.execute_reply": "2025-09-18T23:33:40.630630Z"
    },
    "papermill": {
     "duration": 0.011821,
     "end_time": "2025-09-18T23:33:40.632214",
     "exception": false,
     "start_time": "2025-09-18T23:33:40.620393",
     "status": "completed"
    },
    "tags": []
   },
   "outputs": [
    {
     "data": {
      "text/html": [
       "<span class=\"tex2jax_ignore\"><div class=\"entities\" style=\"line-height: 2.5; direction: ltr\">Sarah traveled \n",
       "<mark class=\"entity\" style=\"background: #ff6961; padding: 0.45em 0.6em; margin: 0 0.25em; line-height: 1; border-radius: 0.35em;\">\n",
       "    to France\n",
       "    <span style=\"font-size: 0.8em; font-weight: bold; line-height: 1; border-radius: 0.35em; vertical-align: middle; margin-left: 0.5rem\">LOC</span>\n",
       "</mark>\n",
       " last year, where she visited the \n",
       "<mark class=\"entity\" style=\"background: #779ecb; padding: 0.45em 0.6em; margin: 0 0.25em; line-height: 1; border-radius: 0.35em;\">\n",
       "    Eiffel Tower\n",
       "    <span style=\"font-size: 0.8em; font-weight: bold; line-height: 1; border-radius: 0.35em; vertical-align: middle; margin-left: 0.5rem\">PER</span>\n",
       "</mark>\n",
       " and studied \n",
       "<mark class=\"entity\" style=\"background: #ff6961; padding: 0.45em 0.6em; margin: 0 0.25em; line-height: 1; border-radius: 0.35em;\">\n",
       "    at Sorbonne University\n",
       "    <span style=\"font-size: 0.8em; font-weight: bold; line-height: 1; border-radius: 0.35em; vertical-align: middle; margin-left: 0.5rem\">LOC</span>\n",
       "</mark>\n",
       " \n",
       "<mark class=\"entity\" style=\"background: #ff6961; padding: 0.45em 0.6em; margin: 0 0.25em; line-height: 1; border-radius: 0.35em;\">\n",
       "    in Paris\n",
       "    <span style=\"font-size: 0.8em; font-weight: bold; line-height: 1; border-radius: 0.35em; vertical-align: middle; margin-left: 0.5rem\">LOC</span>\n",
       "</mark>\n",
       ".</div></span>"
      ],
      "text/plain": [
       "<IPython.core.display.HTML object>"
      ]
     },
     "metadata": {},
     "output_type": "display_data"
    }
   ],
   "source": [
    "text = \"Sarah traveled to France last year, where she visited the Eiffel Tower and studied at Sorbonne University in Paris.\"\n",
    "doc = rule_model(text)\n",
    "\n",
    "options = {\n",
    "    \"colors\": {\n",
    "        \"LOC\": \"#ff6961\",   # red-ish\n",
    "        \"ORG\": \"#77dd77\",   # green\n",
    "        \"PER\": \"#779ecb\",   # blue\n",
    "        \"MISC\": \"#fdfd96\"   # yellow\n",
    "    }\n",
    "}\n",
    "\n",
    "displacy.render(doc, style=\"ent\", options=options, jupyter=True)\n"
   ]
  },
  {
   "cell_type": "markdown",
   "id": "7ee3925f",
   "metadata": {
    "papermill": {
     "duration": 0.003628,
     "end_time": "2025-09-18T23:33:40.639721",
     "exception": false,
     "start_time": "2025-09-18T23:33:40.636093",
     "status": "completed"
    },
    "tags": []
   },
   "source": [
    "# Using Rule-Based Pretrained Model en_core_web_lg"
   ]
  },
  {
   "cell_type": "code",
   "execution_count": 12,
   "id": "e4b1c181",
   "metadata": {
    "execution": {
     "iopub.execute_input": "2025-09-18T23:33:40.648328Z",
     "iopub.status.busy": "2025-09-18T23:33:40.647894Z",
     "iopub.status.idle": "2025-09-18T23:33:42.305610Z",
     "shell.execute_reply": "2025-09-18T23:33:42.305020Z"
    },
    "papermill": {
     "duration": 1.663474,
     "end_time": "2025-09-18T23:33:42.306967",
     "exception": false,
     "start_time": "2025-09-18T23:33:40.643493",
     "status": "completed"
    },
    "tags": []
   },
   "outputs": [],
   "source": [
    "pretrained_rule_model = spacy.load(\"en_core_web_lg\")\n",
    "pretrained_ruler = pretrained_rule_model.add_pipe(\"entity_ruler\")\n",
    "\n",
    "pretrained_ruler.add_patterns(patterns)\n"
   ]
  },
  {
   "cell_type": "code",
   "execution_count": 13,
   "id": "1d2410e3",
   "metadata": {
    "execution": {
     "iopub.execute_input": "2025-09-18T23:33:42.316266Z",
     "iopub.status.busy": "2025-09-18T23:33:42.315781Z",
     "iopub.status.idle": "2025-09-18T23:33:42.331531Z",
     "shell.execute_reply": "2025-09-18T23:33:42.330855Z"
    },
    "papermill": {
     "duration": 0.021491,
     "end_time": "2025-09-18T23:33:42.332755",
     "exception": false,
     "start_time": "2025-09-18T23:33:42.311264",
     "status": "completed"
    },
    "tags": []
   },
   "outputs": [
    {
     "data": {
      "text/html": [
       "<span class=\"tex2jax_ignore\"><div class=\"entities\" style=\"line-height: 2.5; direction: ltr\">\n",
       "<mark class=\"entity\" style=\"background: #aa9cfc; padding: 0.45em 0.6em; margin: 0 0.25em; line-height: 1; border-radius: 0.35em;\">\n",
       "    Sarah\n",
       "    <span style=\"font-size: 0.8em; font-weight: bold; line-height: 1; border-radius: 0.35em; vertical-align: middle; margin-left: 0.5rem\">PERSON</span>\n",
       "</mark>\n",
       " traveled to \n",
       "<mark class=\"entity\" style=\"background: #feca74; padding: 0.45em 0.6em; margin: 0 0.25em; line-height: 1; border-radius: 0.35em;\">\n",
       "    France\n",
       "    <span style=\"font-size: 0.8em; font-weight: bold; line-height: 1; border-radius: 0.35em; vertical-align: middle; margin-left: 0.5rem\">GPE</span>\n",
       "</mark>\n",
       " \n",
       "<mark class=\"entity\" style=\"background: #bfe1d9; padding: 0.45em 0.6em; margin: 0 0.25em; line-height: 1; border-radius: 0.35em;\">\n",
       "    last year\n",
       "    <span style=\"font-size: 0.8em; font-weight: bold; line-height: 1; border-radius: 0.35em; vertical-align: middle; margin-left: 0.5rem\">DATE</span>\n",
       "</mark>\n",
       ", where she visited \n",
       "<mark class=\"entity\" style=\"background: #9cc9cc; padding: 0.45em 0.6em; margin: 0 0.25em; line-height: 1; border-radius: 0.35em;\">\n",
       "    the Eiffel Tower\n",
       "    <span style=\"font-size: 0.8em; font-weight: bold; line-height: 1; border-radius: 0.35em; vertical-align: middle; margin-left: 0.5rem\">FAC</span>\n",
       "</mark>\n",
       " and studied at \n",
       "<mark class=\"entity\" style=\"background: #77dd77; padding: 0.45em 0.6em; margin: 0 0.25em; line-height: 1; border-radius: 0.35em;\">\n",
       "    Sorbonne University\n",
       "    <span style=\"font-size: 0.8em; font-weight: bold; line-height: 1; border-radius: 0.35em; vertical-align: middle; margin-left: 0.5rem\">ORG</span>\n",
       "</mark>\n",
       " in \n",
       "<mark class=\"entity\" style=\"background: #feca74; padding: 0.45em 0.6em; margin: 0 0.25em; line-height: 1; border-radius: 0.35em;\">\n",
       "    Paris\n",
       "    <span style=\"font-size: 0.8em; font-weight: bold; line-height: 1; border-radius: 0.35em; vertical-align: middle; margin-left: 0.5rem\">GPE</span>\n",
       "</mark>\n",
       ".</div></span>"
      ],
      "text/plain": [
       "<IPython.core.display.HTML object>"
      ]
     },
     "metadata": {},
     "output_type": "display_data"
    }
   ],
   "source": [
    "doc = pretrained_rule_model(\"Sarah traveled to France last year, where she visited the Eiffel Tower and studied at Sorbonne University in Paris.\")\n",
    "\n",
    "colors = {\n",
    "    \"LOC\": \"#ff6961\",   # red-ish\n",
    "    \"ORG\": \"#77dd77\",   # green\n",
    "    \"PER\": \"#779ecb\",   # blue\n",
    "    \"MISC\": \"#fdfd96\",  # yellow\n",
    "}\n",
    "options = {\"colors\": colors}\n",
    "\n",
    "spacy.displacy.render(doc, style=\"ent\", options= options, jupyter=True)"
   ]
  },
  {
   "cell_type": "code",
   "execution_count": 14,
   "id": "5ceb3088",
   "metadata": {
    "execution": {
     "iopub.execute_input": "2025-09-18T23:33:42.343368Z",
     "iopub.status.busy": "2025-09-18T23:33:42.343152Z",
     "iopub.status.idle": "2025-09-18T23:34:48.182105Z",
     "shell.execute_reply": "2025-09-18T23:34:48.181149Z"
    },
    "papermill": {
     "duration": 65.845556,
     "end_time": "2025-09-18T23:34:48.183522",
     "exception": false,
     "start_time": "2025-09-18T23:33:42.337966",
     "status": "completed"
    },
    "tags": []
   },
   "outputs": [
    {
     "name": "stdout",
     "output_type": "stream",
     "text": [
      "1. en_core_web_lg\n",
      "Overall token accuracy (incl. 'O'): 80.97%\n",
      "\n",
      "2. en_core_web_sm\n",
      "Overall token accuracy (incl. 'O'): 80.17%\n",
      "\n",
      "3. Raw rule_model\n",
      "Overall token accuracy (incl. 'O'): 87.18%\n",
      "\n",
      "4. pretrained en_core_web_lg\n",
      "Overall token accuracy (incl. 'O'): 80.25%\n",
      "\n"
     ]
    }
   ],
   "source": [
    "def sentence_to_text_and_token_char_spans(tokens):\n",
    "    text_parts, spans, pos = [], [], 0\n",
    "    for i, tok in enumerate(tokens):\n",
    "        if i: text_parts.append(\" \"); pos += 1\n",
    "        start = pos\n",
    "        text_parts.append(tok); pos += len(tok)\n",
    "        spans.append((start, pos))\n",
    "    return \"\".join(text_parts), spans\n",
    "\n",
    "def base_label(lbl):\n",
    "    if lbl in (\"PER\",\"PERSON\"): return \"PER\"\n",
    "    if lbl in (\"ORG\",):         return \"ORG\"\n",
    "    if lbl in (\"LOC\",\"GPE\"):    return \"LOC\"\n",
    "    return \"MISC\"\n",
    "\n",
    "def ents_to_bio_for_tokens(doc, token_spans):\n",
    "    ents = sorted(filter_spans(list(doc.ents)), key=lambda e: (e.end_char - e.start_char), reverse=True)\n",
    "    bio = [\"O\"] * len(token_spans)\n",
    "    for ent in ents:\n",
    "        ent_start, ent_end = ent.start_char, ent.end_char\n",
    "        covered = [i for i,(s,e) in enumerate(token_spans) if s >= ent_start and e <= ent_end]\n",
    "        if not covered:  # fallback to any overlap\n",
    "            covered = sorted({i for i,(s,e) in enumerate(token_spans) if not (e <= ent_start or s >= ent_end)})\n",
    "        b = base_label(ent.label_)\n",
    "        for j, ti in enumerate(covered):\n",
    "            if bio[ti] != \"O\":  # keep earlier longer span\n",
    "                continue\n",
    "            bio[ti] = f\"{'B' if j==0 else 'I'}-{b}\"\n",
    "    return bio\n",
    "\n",
    "def evaluate_bio(nlp, test_tokens, test_labels):\n",
    "    y_true, y_pred = [], []\n",
    "    for tokens, gold_bio in zip(test_tokens, test_labels):\n",
    "        text, tok_spans = sentence_to_text_and_token_char_spans(tokens)\n",
    "        pred_bio = ents_to_bio_for_tokens(nlp(text), tok_spans)\n",
    "        m = min(len(pred_bio), len(gold_bio))\n",
    "        y_true.extend(gold_bio[:m])\n",
    "        y_pred.extend(pred_bio[:m])\n",
    "    labels_no_o = sorted({t for t in set(y_true) | set(y_pred) if t != \"O\"})\n",
    "    acc = sum(a==b for a,b in zip(y_true,y_pred)) / len(y_true) * 100\n",
    "    print(f\"Overall token accuracy (incl. 'O'): {acc:.2f}%\\n\")\n",
    "    return acc\n",
    "\n",
    "print(\"1. en_core_web_lg\")\n",
    "lg_acc = evaluate_bio(lg_model, test_tokens, test_labels)\n",
    "\n",
    "print(\"2. en_core_web_sm\")\n",
    "sm_acc = evaluate_bio(sm_model, test_tokens, test_labels)\n",
    "\n",
    "print(\"3. Raw rule_model\")\n",
    "rule_acc = evaluate_bio(rule_model, test_tokens, test_labels)\n",
    "\n",
    "print(\"4. pretrained en_core_web_lg\")\n",
    "pretrained_rule_acc = evaluate_bio(pretrained_rule_model, test_tokens, test_labels)"
   ]
  },
  {
   "cell_type": "code",
   "execution_count": 15,
   "id": "09105014",
   "metadata": {
    "execution": {
     "iopub.execute_input": "2025-09-18T23:34:48.193692Z",
     "iopub.status.busy": "2025-09-18T23:34:48.193452Z",
     "iopub.status.idle": "2025-09-18T23:34:48.446412Z",
     "shell.execute_reply": "2025-09-18T23:34:48.445714Z"
    },
    "papermill": {
     "duration": 0.259232,
     "end_time": "2025-09-18T23:34:48.447622",
     "exception": false,
     "start_time": "2025-09-18T23:34:48.188390",
     "status": "completed"
    },
    "tags": []
   },
   "outputs": [
    {
     "data": {
      "image/png": "[encoded data removed]",
      "text/plain": [
       "<Figure size 640x480 with 1 Axes>"
      ]
     },
     "metadata": {},
     "output_type": "display_data"
    }
   ],
   "source": [
    "import matplotlib.pyplot as plt\n",
    "\n",
    "fig, ax = plt.subplots()\n",
    "\n",
    "models = [\"lg\\n Model-Based\", \"sm\\n Model-Based\", \"Raw\\n Rule-Based\", \"Pretrained\\n Rule-Based\"]\n",
    "scores = [lg_acc, sm_acc, rule_acc, pretrained_rule_acc]\n",
    "\n",
    "ax.bar(\n",
    "    models,\n",
    "    scores,\n",
    ")\n",
    "\n",
    "ax.set_ylabel(\"Accuracy (%)\")\n",
    "ax.set_title(\"Accuracy Comparison between NER Models\")\n",
    "\n",
    "for idx, val in enumerate(scores):\n",
    "    ax.text(idx, val + 0.5, f\"{val:.2f}%\", ha=\"center\")\n",
    "\n",
    "plt.tight_layout()\n",
    "plt.show()\n"
   ]
  }
 ],
 "metadata": {
  "kaggle": {
   "accelerator": "nvidiaTeslaT4",
   "dataSources": [
    {
     "datasetId": 50445,
     "sourceId": 94327,
     "sourceType": "datasetVersion"
    }
   ],
   "dockerImageVersionId": 31090,
   "isGpuEnabled": true,
   "isInternetEnabled": true,
   "language": "python",
   "sourceType": "notebook"
  },
  "kernelspec": {
   "display_name": "Python 3",
   "language": "python",
   "name": "python3"
  },
  "language_info": {
   "codemirror_mode": {
    "name": "ipython",
    "version": 3
   },
   "file_extension": ".py",
   "mimetype": "text/x-python",
   "name": "python",
   "nbconvert_exporter": "python",
   "pygments_lexer": "ipython3",
   "version": "3.11.13"
  },
  "papermill": {
   "default_parameters": {},
   "duration": 106.50489,
   "end_time": "2025-09-18T23:34:51.076428",
   "environment_variables": {},
   "exception": null,
   "input_path": "__notebook__.ipynb",
   "output_path": "__notebook__.ipynb",
   "parameters": {},
   "start_time": "2025-09-18T23:33:04.571538",
   "version": "2.6.0"
  }
 },
 "nbformat": 4,
 "nbformat_minor": 5
}
